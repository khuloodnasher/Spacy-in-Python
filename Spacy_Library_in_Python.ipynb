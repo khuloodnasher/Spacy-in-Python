{
  "nbformat": 4,
  "nbformat_minor": 0,
  "metadata": {
    "colab": {
      "name": "Spacy Library in Python.ipynb",
      "provenance": [],
      "authorship_tag": "ABX9TyObUuKuGh8ttb2vY/RjBK9W",
      "include_colab_link": true
    },
    "kernelspec": {
      "name": "python3",
      "display_name": "Python 3"
    }
  },
  "cells": [
    {
      "cell_type": "markdown",
      "metadata": {
        "id": "view-in-github",
        "colab_type": "text"
      },
      "source": [
        "<a href=\"https://colab.research.google.com/github/khuloodnasher/Spacy-in-Python/blob/main/Spacy_Library_in_Python.ipynb\" target=\"_parent\"><img src=\"https://colab.research.google.com/assets/colab-badge.svg\" alt=\"Open In Colab\"/></a>"
      ]
    },
    {
      "cell_type": "code",
      "metadata": {
        "id": "e8mwXbZGG5FG"
      },
      "source": [
        "import spacy\n",
        "# loading  English Language\n",
        "nlp = spacy.load('en_core_web_sm')\n",
        "\n"
      ],
      "execution_count": 1,
      "outputs": []
    },
    {
      "cell_type": "code",
      "metadata": {
        "colab": {
          "base_uri": "https://localhost:8080/"
        },
        "id": "sw6ZwDSiOFJX",
        "outputId": "77a218f7-e177-4126-9d8b-a548e6e905de"
      },
      "source": [
        "# text must be created by nlp object\n",
        "# Create an nlp object\n",
        "my_text= nlp('We will learn Spacy today. It is a great library.It is widely used in NLP. It is mainly used  in knowing the part of speech.')\n",
        "my_text"
      ],
      "execution_count": 46,
      "outputs": [
        {
          "output_type": "execute_result",
          "data": {
            "text/plain": [
              "We will learn Spacy today. It is a great library.It is widely used in NLP. It is mainly used  in knowing the part of speech."
            ]
          },
          "metadata": {
            "tags": []
          },
          "execution_count": 46
        }
      ]
    },
    {
      "cell_type": "markdown",
      "metadata": {
        "id": "RRSJ2_X2PGWg"
      },
      "source": [
        "## Words Tokenization"
      ]
    },
    {
      "cell_type": "code",
      "metadata": {
        "colab": {
          "base_uri": "https://localhost:8080/"
        },
        "id": "kEdACElpI5nh",
        "outputId": "063d30a5-a8b1-4420-e3be-8a888a6d730c"
      },
      "source": [
        "# Extract tokens for the given text\n",
        "my_text= nlp('We will learn Spacy today. It is a great library.It is widely used in NLP. It is mainly used  in knowing the part of speech.')\n",
        "\n",
        "print([token.text for token in my_text])\n"
      ],
      "execution_count": 45,
      "outputs": [
        {
          "output_type": "stream",
          "text": [
            "['We', 'will', 'learn', 'Spacy', 'today', '.', 'It', 'is', 'a', 'great', 'library', '.', 'It', 'is', 'widely', 'used', 'in', 'NLP', '.', 'It', 'is', 'mainly', 'used', ' ', 'in', 'knowing', 'the', 'part', 'of', 'speech', '.']\n"
          ],
          "name": "stdout"
        }
      ]
    },
    {
      "cell_type": "code",
      "metadata": {
        "colab": {
          "base_uri": "https://localhost:8080/"
        },
        "id": "FtL2yQSxNSow",
        "outputId": "9fcc5c5e-5815-4648-81cf-cbfe7ea1ee6e"
      },
      "source": [
        "# Another way to tokenize the text\n",
        "my_text= nlp('We will learn Spacy today. It is a great library.It is widely used in NLP. It is mainly used  in knowing the part of speech.')\n",
        " \n",
        "token_list=[]\n",
        "for token in my_text:\n",
        "  token_list.append(token.text)\n",
        "print(token_list)\n"
      ],
      "execution_count": 41,
      "outputs": [
        {
          "output_type": "stream",
          "text": [
            "['We', 'will', 'learn', 'Spacy', 'today', '.', 'It', 'is', 'a', 'great', 'library', '.', 'It', 'is', 'widely', 'used', 'in', 'NLP', ',', 'it', 'has', 'many', 'uses', 'especially', 'in', 'knowing', 'the', 'part', 'of', 'speech', '.']\n"
          ],
          "name": "stdout"
        }
      ]
    },
    {
      "cell_type": "code",
      "metadata": {
        "colab": {
          "base_uri": "https://localhost:8080/"
        },
        "id": "Z5xwsmD7BYRh",
        "outputId": "2ff46ca3-f574-4d6f-a580-920b349a18ee"
      },
      "source": [
        "# Extract sentences for the given text\n",
        "my_text= nlp('We will learn Spacy today. It is a great library.It is widely used in NLP. It is mainly used  in knowing the part of speech.')\n",
        "for sent in my_text.sents:\n",
        "  print(sent)"
      ],
      "execution_count": 47,
      "outputs": [
        {
          "output_type": "stream",
          "text": [
            "We will learn Spacy today.\n",
            "It is a great library.\n",
            "It is widely used in NLP.\n",
            "It is mainly used  in knowing the part of speech.\n"
          ],
          "name": "stdout"
        }
      ]
    },
    {
      "cell_type": "markdown",
      "metadata": {
        "id": "wv9ptouFQ5DL"
      },
      "source": [
        "## Spacy Stopwords"
      ]
    },
    {
      "cell_type": "code",
      "metadata": {
        "colab": {
          "base_uri": "https://localhost:8080/"
        },
        "id": "K-UvBIXtNRSz",
        "outputId": "513d76b1-90de-4de2-f03d-590bbea30f10"
      },
      "source": [
        "spacty_stopwords=spacy.lang.en.stop_words.STOP_WORDS\n",
        "print('Number of stop words in English:',len(spacty_stopwords))\n",
        "print ('First 10 Stopeords:',list(spacty_stopwords)[:10])\n"
      ],
      "execution_count": 51,
      "outputs": [
        {
          "output_type": "stream",
          "text": [
            "Number of stop words in English: 326\n",
            "First 10 Stopeords: [\"'ve\", 'onto', 'along', 'have', 'become', 'from', 'up', 'would', 'many', 'except']\n"
          ],
          "name": "stdout"
        }
      ]
    },
    {
      "cell_type": "markdown",
      "metadata": {
        "id": "P4f9wVtLrfZW"
      },
      "source": [
        "#Cleaning from stopwords"
      ]
    },
    {
      "cell_type": "code",
      "metadata": {
        "colab": {
          "base_uri": "https://localhost:8080/"
        },
        "id": "udfk4ckGNJxy",
        "outputId": "8d9085b6-0b12-4f16-8ef6-9d3f949b8b7a"
      },
      "source": [
        "my_text= nlp('We will learn Spacy today. It is a great library.It is widely used in NLP. It is mainly used  in knowing the part of speech.')\n",
        "cleaned_text=[]\n",
        "for word in my_text:\n",
        "\tif word.is_stop==False:\n",
        "\t\tcleaned_text.append(word)\n",
        "print('cleaned text=',cleaned_text)\n",
        " "
      ],
      "execution_count": 55,
      "outputs": [
        {
          "output_type": "stream",
          "text": [
            "cleaned text= [learn, Spacy, today, ., great, library, ., widely, NLP, ., mainly,  , knowing, speech, .]\n"
          ],
          "name": "stdout"
        }
      ]
    },
    {
      "cell_type": "markdown",
      "metadata": {
        "id": "gCfACkJawkix"
      },
      "source": [
        "#Part of Speech (POS)"
      ]
    },
    {
      "cell_type": "code",
      "metadata": {
        "colab": {
          "base_uri": "https://localhost:8080/"
        },
        "id": "XBXWdqnnr6IY",
        "outputId": "ee01ee73-7b7e-484f-b155-2be1918df98f"
      },
      "source": [
        "#Part of Speech (POS)\n",
        "my_text= nlp('We will learn Spacy today. It is a great library.It is widely used in NLP. It is mainly used  in knowing the part of speech.')\n",
        "for token in my_text:\n",
        "  print(token.text,token.lemma_,token.pos_,token.tag_,token.dep_,token.shape_,token.is_alpha,token.is_stop)\n"
      ],
      "execution_count": 57,
      "outputs": [
        {
          "output_type": "stream",
          "text": [
            "We -PRON- PRON PRP nsubj Xx True True\n",
            "will will VERB MD aux xxxx True True\n",
            "learn learn VERB VB ROOT xxxx True False\n",
            "Spacy Spacy PROPN NNP dobj Xxxxx True False\n",
            "today today NOUN NN npadvmod xxxx True False\n",
            ". . PUNCT . punct . False False\n",
            "It -PRON- PRON PRP nsubj Xx True True\n",
            "is be AUX VBZ ROOT xx True True\n",
            "a a DET DT det x True True\n",
            "great great ADJ JJ amod xxxx True False\n",
            "library library NOUN NN attr xxxx True False\n",
            ". . PUNCT . punct . False False\n",
            "It -PRON- PRON PRP nsubjpass Xx True True\n",
            "is be AUX VBZ auxpass xx True True\n",
            "widely widely ADV RB advmod xxxx True False\n",
            "used use VERB VBN ROOT xxxx True True\n",
            "in in ADP IN prep xx True True\n",
            "NLP NLP PROPN NNP pobj XXX True False\n",
            ". . PUNCT . punct . False False\n",
            "It -PRON- PRON PRP nsubjpass Xx True True\n",
            "is be AUX VBZ auxpass xx True True\n",
            "mainly mainly ADV RB advmod xxxx True False\n",
            "used use VERB VBN ROOT xxxx True True\n",
            "    SPACE _SP    False False\n",
            "in in ADP IN prep xx True True\n",
            "knowing know VERB VBG pcomp xxxx True False\n",
            "the the DET DT det xxx True True\n",
            "part part NOUN NN dobj xxxx True True\n",
            "of of ADP IN prep xx True True\n",
            "speech speech NOUN NN pobj xxxx True False\n",
            ". . PUNCT . punct . False False\n"
          ],
          "name": "stdout"
        }
      ]
    },
    {
      "cell_type": "code",
      "metadata": {
        "colab": {
          "base_uri": "https://localhost:8080/"
        },
        "id": "9Ls7Ivpdw4GC",
        "outputId": "a32ef8dc-b5dc-4439-8a2c-915a9d2ae7e0"
      },
      "source": [
        "\n",
        "my_text= nlp('We will learn Spacy today. It is a great library.It is widely used in NLP. It is mainly used  in knowing the part of speech.')\n",
        "print([(token.text,token.tag_) for token in my_text])\n"
      ],
      "execution_count": 58,
      "outputs": [
        {
          "output_type": "stream",
          "text": [
            "[('We', 'PRP'), ('will', 'MD'), ('learn', 'VB'), ('Spacy', 'NNP'), ('today', 'NN'), ('.', '.'), ('It', 'PRP'), ('is', 'VBZ'), ('a', 'DT'), ('great', 'JJ'), ('library', 'NN'), ('.', '.'), ('It', 'PRP'), ('is', 'VBZ'), ('widely', 'RB'), ('used', 'VBN'), ('in', 'IN'), ('NLP', 'NNP'), ('.', '.'), ('It', 'PRP'), ('is', 'VBZ'), ('mainly', 'RB'), ('used', 'VBN'), (' ', '_SP'), ('in', 'IN'), ('knowing', 'VBG'), ('the', 'DT'), ('part', 'NN'), ('of', 'IN'), ('speech', 'NN'), ('.', '.')]\n"
          ],
          "name": "stdout"
        }
      ]
    },
    {
      "cell_type": "markdown",
      "metadata": {
        "id": "n5kegueK0dTF"
      },
      "source": [
        "#Detecting Nouns\n"
      ]
    },
    {
      "cell_type": "code",
      "metadata": {
        "colab": {
          "base_uri": "https://localhost:8080/"
        },
        "id": "nuuRdyTlyqpQ",
        "outputId": "34509c71-eb34-4421-c9fe-b1aa3e399f31"
      },
      "source": [
        " my_text= nlp('We will learn Spacy today. It is a great library.It is widely used in NLP. It is mainly used  in knowing the part of speech.')\n",
        "\n",
        "for chunk in my_text.noun_chunks:\n",
        "\tprint(chunk.text)\n"
      ],
      "execution_count": 63,
      "outputs": [
        {
          "output_type": "stream",
          "text": [
            "We\n",
            "Spacy\n",
            "It\n",
            "a great library\n",
            "It\n",
            "NLP\n",
            "It\n",
            "the part\n",
            "speech\n"
          ],
          "name": "stdout"
        }
      ]
    },
    {
      "cell_type": "markdown",
      "metadata": {
        "id": "mh7at2QCzX9M"
      },
      "source": [
        "# Lemmatization\n"
      ]
    },
    {
      "cell_type": "code",
      "metadata": {
        "colab": {
          "base_uri": "https://localhost:8080/"
        },
        "id": "CEp_s7bk0tFO",
        "outputId": "fa573997-e09b-4cfb-a84f-686fbd7dc914"
      },
      "source": [
        "my_text= nlp('We will learn Spacy today. It is a great library.It is widely used in NLP. It is mainly used  in knowing the part of speech.')\n",
        "\n",
        "for word in my_text:\n",
        "\tprint(word.text,word.lemma_)\n"
      ],
      "execution_count": 2,
      "outputs": [
        {
          "output_type": "stream",
          "text": [
            "We -PRON-\n",
            "will will\n",
            "learn learn\n",
            "Spacy Spacy\n",
            "today today\n",
            ". .\n",
            "It -PRON-\n",
            "is be\n",
            "a a\n",
            "great great\n",
            "library library\n",
            ". .\n",
            "It -PRON-\n",
            "is be\n",
            "widely widely\n",
            "used use\n",
            "in in\n",
            "NLP NLP\n",
            ". .\n",
            "It -PRON-\n",
            "is be\n",
            "mainly mainly\n",
            "used use\n",
            "   \n",
            "in in\n",
            "knowing know\n",
            "the the\n",
            "part part\n",
            "of of\n",
            "speech speech\n",
            ". .\n"
          ],
          "name": "stdout"
        }
      ]
    },
    {
      "cell_type": "code",
      "metadata": {
        "id": "t9sbGLJdznBx"
      },
      "source": [
        ""
      ],
      "execution_count": null,
      "outputs": []
    }
  ]
}