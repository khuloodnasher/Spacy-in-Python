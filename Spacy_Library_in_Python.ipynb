{
  "nbformat": 4,
  "nbformat_minor": 0,
  "metadata": {
    "colab": {
      "name": "Spacy Library in Python.ipynb",
      "provenance": [],
      "authorship_tag": "ABX9TyP/NFOOhP1pji334RlBrdK/",
      "include_colab_link": true
    },
    "kernelspec": {
      "name": "python3",
      "display_name": "Python 3"
    }
  },
  "cells": [
    {
      "cell_type": "markdown",
      "metadata": {
        "id": "view-in-github",
        "colab_type": "text"
      },
      "source": [
        "<a href=\"https://colab.research.google.com/github/khuloodnasher/Spacy-in-Python/blob/main/Spacy_Library_in_Python.ipynb\" target=\"_parent\"><img src=\"https://colab.research.google.com/assets/colab-badge.svg\" alt=\"Open In Colab\"/></a>"
      ]
    },
    {
      "cell_type": "code",
      "metadata": {
        "id": "e8mwXbZGG5FG"
      },
      "source": [
        "import spacy\n",
        "# loading  English Language\n",
        "# Create an nlp object\n",
        "nlp = spacy.load('en_core_web_sm')\n",
        "\n"
      ],
      "execution_count": 2,
      "outputs": []
    },
    {
      "cell_type": "code",
      "metadata": {
        "colab": {
          "base_uri": "https://localhost:8080/"
        },
        "id": "sw6ZwDSiOFJX",
        "outputId": "eed19124-9b48-4423-d3e1-066c43336c90"
      },
      "source": [
        "# text must be created by nlp object\n",
        "my_text= nlp('We will learn Spacy today. It is a great library.It is widely used in NLP. It is mainly used  in knowing the part of speech.')\n",
        "my_text"
      ],
      "execution_count": 3,
      "outputs": [
        {
          "output_type": "execute_result",
          "data": {
            "text/plain": [
              "We will learn Spacy today. It is a great library.It is widely used in NLP. It is mainly used  in knowing the part of speech."
            ]
          },
          "metadata": {
            "tags": []
          },
          "execution_count": 3
        }
      ]
    },
    {
      "cell_type": "markdown",
      "metadata": {
        "id": "RRSJ2_X2PGWg"
      },
      "source": [
        "## Words Tokenization"
      ]
    },
    {
      "cell_type": "code",
      "metadata": {
        "colab": {
          "base_uri": "https://localhost:8080/"
        },
        "id": "kEdACElpI5nh",
        "outputId": "a3f21fbf-bc6e-4014-9681-b6deb9da1fc2"
      },
      "source": [
        "# Extract tokens for the given text\n",
        "my_text= nlp('We will learn Spacy today. It is a great library.It is widely used in NLP. It is mainly used  in knowing the part of speech.')\n",
        "\n",
        "print([token.text for token in my_text])\n"
      ],
      "execution_count": 3,
      "outputs": [
        {
          "output_type": "stream",
          "text": [
            "['We', 'will', 'learn', 'Spacy', 'today', '.', 'It', 'is', 'a', 'great', 'library', '.', 'It', 'is', 'widely', 'used', 'in', 'NLP', '.', 'It', 'is', 'mainly', 'used', ' ', 'in', 'knowing', 'the', 'part', 'of', 'speech', '.']\n"
          ],
          "name": "stdout"
        }
      ]
    },
    {
      "cell_type": "code",
      "metadata": {
        "colab": {
          "base_uri": "https://localhost:8080/"
        },
        "id": "FtL2yQSxNSow",
        "outputId": "8c844006-8e01-4bff-8fc2-b7578c8800cf"
      },
      "source": [
        "# Another way to tokenize the text\n",
        "my_text= nlp('We will learn Spacy today. It is a great library.It is widely used in NLP. It is mainly used  in knowing the part of speech.')\n",
        " \n",
        "token_list=[]\n",
        "for token in my_text:\n",
        "  token_list.append(token.text)\n",
        "print(token_list)\n"
      ],
      "execution_count": 4,
      "outputs": [
        {
          "output_type": "stream",
          "text": [
            "['We', 'will', 'learn', 'Spacy', 'today', '.', 'It', 'is', 'a', 'great', 'library', '.', 'It', 'is', 'widely', 'used', 'in', 'NLP', '.', 'It', 'is', 'mainly', 'used', ' ', 'in', 'knowing', 'the', 'part', 'of', 'speech', '.']\n"
          ],
          "name": "stdout"
        }
      ]
    },
    {
      "cell_type": "markdown",
      "metadata": {
        "id": "TJli3Vzh0L4-"
      },
      "source": [
        "# Attributes of the Token Class:\n",
        "\n"
      ]
    },
    {
      "cell_type": "code",
      "metadata": {
        "colab": {
          "base_uri": "https://localhost:8080/"
        },
        "id": "HEgB5Rt60Krd",
        "outputId": "1e70e012-9781-4131-b218-f6595b7e4f35"
      },
      "source": [
        "# Token Atrributes\n",
        "my_text= nlp('We will learn Spacy today. It is a great library.It is widely used in NLP. It is mainly used  in knowing the part of speech.')\n",
        " \n",
        "for token in my_text:\n",
        "  print (token, token.idx,token.is_alpha, token.is_punct, token.is_space,token.shape_, token.is_stop)"
      ],
      "execution_count": 5,
      "outputs": [
        {
          "output_type": "stream",
          "text": [
            "We 0 True False False Xx True\n",
            "will 3 True False False xxxx True\n",
            "learn 8 True False False xxxx False\n",
            "Spacy 14 True False False Xxxxx False\n",
            "today 20 True False False xxxx False\n",
            ". 25 False True False . False\n",
            "It 27 True False False Xx True\n",
            "is 30 True False False xx True\n",
            "a 33 True False False x True\n",
            "great 35 True False False xxxx False\n",
            "library 41 True False False xxxx False\n",
            ". 48 False True False . False\n",
            "It 49 True False False Xx True\n",
            "is 52 True False False xx True\n",
            "widely 55 True False False xxxx False\n",
            "used 62 True False False xxxx True\n",
            "in 67 True False False xx True\n",
            "NLP 70 True False False XXX False\n",
            ". 73 False True False . False\n",
            "It 75 True False False Xx True\n",
            "is 78 True False False xx True\n",
            "mainly 81 True False False xxxx False\n",
            "used 88 True False False xxxx True\n",
            "  93 False False True   False\n",
            "in 94 True False False xx True\n",
            "knowing 97 True False False xxxx False\n",
            "the 105 True False False xxx True\n",
            "part 109 True False False xxxx True\n",
            "of 114 True False False xx True\n",
            "speech 117 True False False xxxx False\n",
            ". 123 False True False . False\n"
          ],
          "name": "stdout"
        }
      ]
    },
    {
      "cell_type": "markdown",
      "metadata": {
        "id": "HSiC3gg011uI"
      },
      "source": [
        "\n",
        "is_alpha shows if the token is alphabetic  or not.\n",
        "is_punct shows if the token is a punctuation or not.\n",
        "is_space shows if the token is a space or not.\n",
        "shape_ shows the shape of the word like the number of characters and if it is capital or lowe case.\n",
        "is_stop shows if the token is a stop word or not."
      ]
    },
    {
      "cell_type": "markdown",
      "metadata": {
        "id": "d40sU4Ux9rSw"
      },
      "source": [
        "# Extract sentences "
      ]
    },
    {
      "cell_type": "code",
      "metadata": {
        "colab": {
          "base_uri": "https://localhost:8080/"
        },
        "id": "Z5xwsmD7BYRh",
        "outputId": "a7c84c76-f606-49ae-b735-b67c8bf38433"
      },
      "source": [
        "# Extract sentences for the given text\n",
        "my_text= nlp('We will learn Spacy today. It is a great library.It is widely used in NLP. It is mainly used  in knowing the part of speech.')\n",
        "for sent in my_text.sents:\n",
        "  print(sent)\n",
        " "
      ],
      "execution_count": 18,
      "outputs": [
        {
          "output_type": "stream",
          "text": [
            "We will learn Spacy today.\n",
            "It is a great library.\n",
            "It is widely used in NLP.\n",
            "It is mainly used  in knowing the part of speech.\n"
          ],
          "name": "stdout"
        }
      ]
    },
    {
      "cell_type": "markdown",
      "metadata": {
        "id": "wv9ptouFQ5DL"
      },
      "source": [
        "## Spacy Stopwords"
      ]
    },
    {
      "cell_type": "code",
      "metadata": {
        "colab": {
          "base_uri": "https://localhost:8080/"
        },
        "id": "K-UvBIXtNRSz",
        "outputId": "b16bfd6d-d9ef-4cb5-8380-50becf66c8bb"
      },
      "source": [
        "spacty_stopwords=spacy.lang.en.stop_words.STOP_WORDS\n",
        "print('Number of stop words in English:',len(spacty_stopwords))\n",
        "print ('First 10 Stopeords:',list(spacty_stopwords)[:10])\n"
      ],
      "execution_count": 6,
      "outputs": [
        {
          "output_type": "stream",
          "text": [
            "Number of stop words in English: 326\n",
            "First 10 Stopeords: ['forty', 'once', 'whoever', 'made', 'also', \"'d\", 'across', 'top', 'since', 'per']\n"
          ],
          "name": "stdout"
        }
      ]
    },
    {
      "cell_type": "markdown",
      "metadata": {
        "id": "P4f9wVtLrfZW"
      },
      "source": [
        "#Cleaning from stopwords"
      ]
    },
    {
      "cell_type": "code",
      "metadata": {
        "colab": {
          "base_uri": "https://localhost:8080/"
        },
        "id": "udfk4ckGNJxy",
        "outputId": "d588c703-b2d1-4f1e-f456-9686241b3efd"
      },
      "source": [
        "my_text= nlp('We will learn Spacy today. It is a great library.It is widely used in NLP. It is mainly used  in knowing the part of speech.')\n",
        "cleaned_text=[]\n",
        "for word in my_text:\n",
        "\tif word.is_stop==False:\n",
        "\t\tcleaned_text.append(word)\n",
        "print('cleaned text=',cleaned_text)\n",
        " "
      ],
      "execution_count": 7,
      "outputs": [
        {
          "output_type": "stream",
          "text": [
            "cleaned text= [learn, Spacy, today, ., great, library, ., widely, NLP, ., mainly,  , knowing, speech, .]\n"
          ],
          "name": "stdout"
        }
      ]
    },
    {
      "cell_type": "markdown",
      "metadata": {
        "id": "gCfACkJawkix"
      },
      "source": [
        "#Part of Speech (POS)"
      ]
    },
    {
      "cell_type": "code",
      "metadata": {
        "colab": {
          "base_uri": "https://localhost:8080/"
        },
        "id": "XBXWdqnnr6IY",
        "outputId": "52573a2f-cb21-4929-d1cb-b044034d7fc9"
      },
      "source": [
        "#Part of Speech (POS)\n",
        "my_text= nlp('We will learn Spacy today. It is a great library.It is widely used in NLP. It is mainly used  in knowing the part of speech.')\n",
        "for token in my_text:\n",
        "  print(token.text,token.lemma_,token.pos_,token.tag_,token.dep_,token.shape_,token.is_alpha,token.is_stop)\n"
      ],
      "execution_count": 8,
      "outputs": [
        {
          "output_type": "stream",
          "text": [
            "We -PRON- PRON PRP nsubj Xx True True\n",
            "will will VERB MD aux xxxx True True\n",
            "learn learn VERB VB ROOT xxxx True False\n",
            "Spacy Spacy PROPN NNP dobj Xxxxx True False\n",
            "today today NOUN NN npadvmod xxxx True False\n",
            ". . PUNCT . punct . False False\n",
            "It -PRON- PRON PRP nsubj Xx True True\n",
            "is be AUX VBZ ROOT xx True True\n",
            "a a DET DT det x True True\n",
            "great great ADJ JJ amod xxxx True False\n",
            "library library NOUN NN attr xxxx True False\n",
            ". . PUNCT . punct . False False\n",
            "It -PRON- PRON PRP nsubjpass Xx True True\n",
            "is be AUX VBZ auxpass xx True True\n",
            "widely widely ADV RB advmod xxxx True False\n",
            "used use VERB VBN ROOT xxxx True True\n",
            "in in ADP IN prep xx True True\n",
            "NLP NLP PROPN NNP pobj XXX True False\n",
            ". . PUNCT . punct . False False\n",
            "It -PRON- PRON PRP nsubjpass Xx True True\n",
            "is be AUX VBZ auxpass xx True True\n",
            "mainly mainly ADV RB advmod xxxx True False\n",
            "used use VERB VBN ROOT xxxx True True\n",
            "    SPACE _SP    False False\n",
            "in in ADP IN prep xx True True\n",
            "knowing know VERB VBG pcomp xxxx True False\n",
            "the the DET DT det xxx True True\n",
            "part part NOUN NN dobj xxxx True True\n",
            "of of ADP IN prep xx True True\n",
            "speech speech NOUN NN pobj xxxx True False\n",
            ". . PUNCT . punct . False False\n"
          ],
          "name": "stdout"
        }
      ]
    },
    {
      "cell_type": "code",
      "metadata": {
        "colab": {
          "base_uri": "https://localhost:8080/"
        },
        "id": "9Ls7Ivpdw4GC",
        "outputId": "e3e7060c-a2b1-4fad-b85b-690dfa025428"
      },
      "source": [
        "\n",
        "my_text= nlp('We will learn Spacy today. It is a great library.It is widely used in NLP. It is mainly used  in knowing the part of speech.')\n",
        "print([(token.text,token.tag_) for token in my_text])\n"
      ],
      "execution_count": 9,
      "outputs": [
        {
          "output_type": "stream",
          "text": [
            "[('We', 'PRP'), ('will', 'MD'), ('learn', 'VB'), ('Spacy', 'NNP'), ('today', 'NN'), ('.', '.'), ('It', 'PRP'), ('is', 'VBZ'), ('a', 'DT'), ('great', 'JJ'), ('library', 'NN'), ('.', '.'), ('It', 'PRP'), ('is', 'VBZ'), ('widely', 'RB'), ('used', 'VBN'), ('in', 'IN'), ('NLP', 'NNP'), ('.', '.'), ('It', 'PRP'), ('is', 'VBZ'), ('mainly', 'RB'), ('used', 'VBN'), (' ', '_SP'), ('in', 'IN'), ('knowing', 'VBG'), ('the', 'DT'), ('part', 'NN'), ('of', 'IN'), ('speech', 'NN'), ('.', '.')]\n"
          ],
          "name": "stdout"
        }
      ]
    },
    {
      "cell_type": "markdown",
      "metadata": {
        "id": "n5kegueK0dTF"
      },
      "source": [
        "#Detecting Nouns\n"
      ]
    },
    {
      "cell_type": "code",
      "metadata": {
        "colab": {
          "base_uri": "https://localhost:8080/"
        },
        "id": "nuuRdyTlyqpQ",
        "outputId": "2f320cea-6da2-495e-e338-9c4f6101c54e"
      },
      "source": [
        " my_text= nlp('We will learn Spacy today. It is a great library.It is widely used in NLP. It is mainly used  in knowing the part of speech.')\n",
        "\n",
        "for chunk in my_text.noun_chunks:\n",
        "\tprint(chunk.text)\n"
      ],
      "execution_count": 10,
      "outputs": [
        {
          "output_type": "stream",
          "text": [
            "We\n",
            "Spacy\n",
            "It\n",
            "a great library\n",
            "It\n",
            "NLP\n",
            "It\n",
            "the part\n",
            "speech\n"
          ],
          "name": "stdout"
        }
      ]
    },
    {
      "cell_type": "markdown",
      "metadata": {
        "id": "mh7at2QCzX9M"
      },
      "source": [
        "# Lemmatization\n"
      ]
    },
    {
      "cell_type": "code",
      "metadata": {
        "colab": {
          "base_uri": "https://localhost:8080/"
        },
        "id": "CEp_s7bk0tFO",
        "outputId": "9ea2f892-f22e-472e-827c-ae4d0c9f6d94"
      },
      "source": [
        "my_text= nlp('We will learn Spacy today. It is a great library.It is widely used in NLP. It is mainly used  in knowing the part of speech.')\n",
        "\n",
        "for word in my_text:\n",
        "\tprint(word.text,word.lemma_)\n"
      ],
      "execution_count": 11,
      "outputs": [
        {
          "output_type": "stream",
          "text": [
            "We -PRON-\n",
            "will will\n",
            "learn learn\n",
            "Spacy Spacy\n",
            "today today\n",
            ". .\n",
            "It -PRON-\n",
            "is be\n",
            "a a\n",
            "great great\n",
            "library library\n",
            ". .\n",
            "It -PRON-\n",
            "is be\n",
            "widely widely\n",
            "used use\n",
            "in in\n",
            "NLP NLP\n",
            ". .\n",
            "It -PRON-\n",
            "is be\n",
            "mainly mainly\n",
            "used use\n",
            "   \n",
            "in in\n",
            "knowing know\n",
            "the the\n",
            "part part\n",
            "of of\n",
            "speech speech\n",
            ". .\n"
          ],
          "name": "stdout"
        }
      ]
    },
    {
      "cell_type": "code",
      "metadata": {
        "id": "t9sbGLJdznBx"
      },
      "source": [
        ""
      ],
      "execution_count": 11,
      "outputs": []
    }
  ]
}