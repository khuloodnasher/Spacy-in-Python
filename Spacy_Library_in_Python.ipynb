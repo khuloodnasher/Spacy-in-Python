{
  "nbformat": 4,
  "nbformat_minor": 0,
  "metadata": {
    "colab": {
      "name": "Spacy Library in Python.ipynb",
      "provenance": [],
      "authorship_tag": "ABX9TyOmzx2ldPl42UDyhXdLkY0b",
      "include_colab_link": true
    },
    "kernelspec": {
      "name": "python3",
      "display_name": "Python 3"
    }
  },
  "cells": [
    {
      "cell_type": "markdown",
      "metadata": {
        "id": "view-in-github",
        "colab_type": "text"
      },
      "source": [
        "<a href=\"https://colab.research.google.com/github/khuloodnasher/Spacy-in-Python/blob/main/Spacy_Library_in_Python.ipynb\" target=\"_parent\"><img src=\"https://colab.research.google.com/assets/colab-badge.svg\" alt=\"Open In Colab\"/></a>"
      ]
    },
    {
      "cell_type": "code",
      "metadata": {
        "colab": {
          "base_uri": "https://localhost:8080/"
        },
        "id": "e8mwXbZGG5FG",
        "outputId": "af5bc9f3-e865-4be5-890e-da2cd8669162"
      },
      "source": [
        "import spacy\n",
        "# loading  English Language\n",
        "nlp = spacy.load('en_core_web_sm')\n",
        "\n"
      ],
      "execution_count": 38,
      "outputs": [
        {
          "output_type": "execute_result",
          "data": {
            "text/plain": [
              "We will learn Spacy today. It is a great library"
            ]
          },
          "metadata": {
            "tags": []
          },
          "execution_count": 38
        }
      ]
    },
    {
      "cell_type": "code",
      "metadata": {
        "colab": {
          "base_uri": "https://localhost:8080/"
        },
        "id": "sw6ZwDSiOFJX",
        "outputId": "77a218f7-e177-4126-9d8b-a548e6e905de"
      },
      "source": [
        "# text must be created by nlp object\n",
        "# Create an nlp object\n",
        "my_text= nlp('We will learn Spacy today. It is a great library.It is widely used in NLP. It is mainly used  in knowing the part of speech.')\n",
        "my_text"
      ],
      "execution_count": 46,
      "outputs": [
        {
          "output_type": "execute_result",
          "data": {
            "text/plain": [
              "We will learn Spacy today. It is a great library.It is widely used in NLP. It is mainly used  in knowing the part of speech."
            ]
          },
          "metadata": {
            "tags": []
          },
          "execution_count": 46
        }
      ]
    },
    {
      "cell_type": "markdown",
      "metadata": {
        "id": "RRSJ2_X2PGWg"
      },
      "source": [
        "## Words Tokenization"
      ]
    },
    {
      "cell_type": "code",
      "metadata": {
        "colab": {
          "base_uri": "https://localhost:8080/"
        },
        "id": "kEdACElpI5nh",
        "outputId": "063d30a5-a8b1-4420-e3be-8a888a6d730c"
      },
      "source": [
        "# Extract tokens for the given text\n",
        "my_text= nlp('We will learn Spacy today. It is a great library.It is widely used in NLP. It is mainly used  in knowing the part of speech.')\n",
        "\n",
        "print([token.text for token in my_text])\n"
      ],
      "execution_count": 45,
      "outputs": [
        {
          "output_type": "stream",
          "text": [
            "['We', 'will', 'learn', 'Spacy', 'today', '.', 'It', 'is', 'a', 'great', 'library', '.', 'It', 'is', 'widely', 'used', 'in', 'NLP', '.', 'It', 'is', 'mainly', 'used', ' ', 'in', 'knowing', 'the', 'part', 'of', 'speech', '.']\n"
          ],
          "name": "stdout"
        }
      ]
    },
    {
      "cell_type": "code",
      "metadata": {
        "colab": {
          "base_uri": "https://localhost:8080/"
        },
        "id": "FtL2yQSxNSow",
        "outputId": "9fcc5c5e-5815-4648-81cf-cbfe7ea1ee6e"
      },
      "source": [
        "# Another way to tokenize the text\n",
        "my_text= nlp('We will learn Spacy today. It is a great library.It is widely used in NLP. It is mainly used  in knowing the part of speech.')\n",
        " \n",
        "token_list=[]\n",
        "for token in my_text:\n",
        "  token_list.append(token.text)\n",
        "print(token_list)\n"
      ],
      "execution_count": 41,
      "outputs": [
        {
          "output_type": "stream",
          "text": [
            "['We', 'will', 'learn', 'Spacy', 'today', '.', 'It', 'is', 'a', 'great', 'library', '.', 'It', 'is', 'widely', 'used', 'in', 'NLP', ',', 'it', 'has', 'many', 'uses', 'especially', 'in', 'knowing', 'the', 'part', 'of', 'speech', '.']\n"
          ],
          "name": "stdout"
        }
      ]
    },
    {
      "cell_type": "code",
      "metadata": {
        "colab": {
          "base_uri": "https://localhost:8080/"
        },
        "id": "Z5xwsmD7BYRh",
        "outputId": "2ff46ca3-f574-4d6f-a580-920b349a18ee"
      },
      "source": [
        "# Extract sentences for the given text\n",
        "my_text= nlp('We will learn Spacy today. It is a great library.It is widely used in NLP. It is mainly used  in knowing the part of speech.')\n",
        "for sent in my_text.sents:\n",
        "  print(sent)"
      ],
      "execution_count": 47,
      "outputs": [
        {
          "output_type": "stream",
          "text": [
            "We will learn Spacy today.\n",
            "It is a great library.\n",
            "It is widely used in NLP.\n",
            "It is mainly used  in knowing the part of speech.\n"
          ],
          "name": "stdout"
        }
      ]
    },
    {
      "cell_type": "markdown",
      "metadata": {
        "id": "wv9ptouFQ5DL"
      },
      "source": [
        "## Spacy Stopwords"
      ]
    },
    {
      "cell_type": "code",
      "metadata": {
        "colab": {
          "base_uri": "https://localhost:8080/"
        },
        "id": "K-UvBIXtNRSz",
        "outputId": "513d76b1-90de-4de2-f03d-590bbea30f10"
      },
      "source": [
        "spacty_stopwords=spacy.lang.en.stop_words.STOP_WORDS\n",
        "print('Number of stop words in English:',len(spacty_stopwords))\n",
        "print ('First 10 Stopeords:',list(spacty_stopwords)[:10])\n"
      ],
      "execution_count": 51,
      "outputs": [
        {
          "output_type": "stream",
          "text": [
            "Number of stop words in English: 326\n",
            "First 10 Stopeords: [\"'ve\", 'onto', 'along', 'have', 'become', 'from', 'up', 'would', 'many', 'except']\n"
          ],
          "name": "stdout"
        }
      ]
    },
    {
      "cell_type": "code",
      "metadata": {
        "id": "udfk4ckGNJxy"
      },
      "source": [
        ""
      ],
      "execution_count": null,
      "outputs": []
    }
  ]
}